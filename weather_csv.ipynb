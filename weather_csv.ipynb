{
  "nbformat": 4,
  "nbformat_minor": 0,
  "metadata": {
    "colab": {
      "provenance": []
    },
    "kernelspec": {
      "name": "python3",
      "display_name": "Python 3"
    },
    "language_info": {
      "name": "python"
    }
  },
  "cells": [
    {
      "cell_type": "code",
      "execution_count": 5,
      "metadata": {
        "colab": {
          "base_uri": "https://localhost:8080/"
        },
        "id": "Wn2wrTQHygsT",
        "outputId": "68d661fc-aca1-4cc6-e4e7-ab2d6c8117f7"
      },
      "outputs": [
        {
          "output_type": "stream",
          "name": "stdout",
          "text": [
            "<_csv.reader object at 0x7f07764c5040>\n"
          ]
        }
      ],
      "source": [
        "import csv\n",
        "f = open('seoul.csv', 'r', encoding='cp949')\n",
        "data = csv.reader(f, delimiter=',')\n",
        "print(data)\n",
        "f.close()"
      ]
    }
  ]
}